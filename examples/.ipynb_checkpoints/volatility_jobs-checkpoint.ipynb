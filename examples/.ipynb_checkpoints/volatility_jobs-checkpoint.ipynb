{
 "cells": [
  {
   "cell_type": "markdown",
   "id": "1417c28a-dc5a-4a20-840a-5001faeceab9",
   "metadata": {},
   "source": [
    "# Propdesk Data Pipeline - Volatility"
   ]
  },
  {
   "cell_type": "code",
   "execution_count": 2,
   "id": "c6b93e94-ae4e-4a3b-922b-02875cbd8d7b",
   "metadata": {},
   "outputs": [
    {
     "name": "stdout",
     "output_type": "stream",
     "text": [
      "The autoreload extension is already loaded. To reload it, use:\n",
      "  %reload_ext autoreload\n"
     ]
    }
   ],
   "source": [
    "%load_ext autoreload\n",
    "%autoreload 2\n",
    "from propdesk_services.exchange_storage import ExchangeStorage\n",
    "from propdesk_services.azure_databricks import single_run_job\n",
    "from propdesk_services.azure_databricks import list_databricks_src_files"
   ]
  },
  {
   "cell_type": "markdown",
   "id": "70436b79-21cd-42bc-9663-245a176ad741",
   "metadata": {},
   "source": [
    "### Job Type and Dataset Type (don't need to change this)"
   ]
  },
  {
   "cell_type": "code",
   "execution_count": 3,
   "id": "98428bf0-9e03-4df6-ad2d-8e7b87415da2",
   "metadata": {},
   "outputs": [],
   "source": [
    "job_type = 'cpu_intensive'\n",
    "dataset_type = 'volatility_zma_mqc'\n",
    "script_to_run = 'spark_volatility_zma.py'"
   ]
  },
  {
   "cell_type": "markdown",
   "id": "0b377b8d-432c-4fd8-b8cd-33cd4639787a",
   "metadata": {},
   "source": [
    "### Quick and Dirty - Get Data\n",
    "Note: volatility_zma_mqc is the default zma dataset type from 2022-04-13"
   ]
  },
  {
   "cell_type": "code",
   "execution_count": 4,
   "id": "e939dd81-ab6d-4047-a542-7c19e3d9a7ed",
   "metadata": {
    "tags": []
   },
   "outputs": [
    {
     "data": {
      "text/plain": [
       "{'dataset_type': 'volatility_zma_mqc',\n",
       " 'pair': 'btcbrl',\n",
       " 'date_from': '2021-12-01',\n",
       " 'date_to': '2022-01-01'}"
      ]
     },
     "execution_count": 4,
     "metadata": {},
     "output_type": "execute_result"
    }
   ],
   "source": [
    "from propdesk_services.exchange_storage import get_dataframe_by_params\n",
    "exchange_str = 'binance'\n",
    "\n",
    "query_dict = {\n",
    "    'dataset_type': dataset_type,\n",
    "    'pair': 'btcbrl', \n",
    "    'date_from': '2021-12-01', \n",
    "    'date_to': '2022-01-01', \n",
    "}\n",
    "query_dict"
   ]
  },
  {
   "cell_type": "code",
   "execution_count": 5,
   "id": "3171b73a-b6ce-45bf-a093-67d8e93d46bd",
   "metadata": {},
   "outputs": [
    {
     "name": "stdout",
     "output_type": "stream",
     "text": [
      "files saved to: /tmp/tmp32qaefxh\n"
     ]
    },
    {
     "data": {
      "text/html": [
       "<div>\n",
       "<style scoped>\n",
       "    .dataframe tbody tr th:only-of-type {\n",
       "        vertical-align: middle;\n",
       "    }\n",
       "\n",
       "    .dataframe tbody tr th {\n",
       "        vertical-align: top;\n",
       "    }\n",
       "\n",
       "    .dataframe thead th {\n",
       "        text-align: right;\n",
       "    }\n",
       "</style>\n",
       "<table border=\"1\" class=\"dataframe\">\n",
       "  <thead>\n",
       "    <tr style=\"text-align: right;\">\n",
       "      <th></th>\n",
       "      <th>datetime</th>\n",
       "      <th>volatility_estimation</th>\n",
       "    </tr>\n",
       "  </thead>\n",
       "  <tbody>\n",
       "    <tr>\n",
       "      <th>0</th>\n",
       "      <td>2021-12-01 00:00:00.000</td>\n",
       "      <td>1.054974e-08</td>\n",
       "    </tr>\n",
       "    <tr>\n",
       "      <th>1</th>\n",
       "      <td>2021-12-01 00:00:00.100</td>\n",
       "      <td>1.054974e-08</td>\n",
       "    </tr>\n",
       "    <tr>\n",
       "      <th>2</th>\n",
       "      <td>2021-12-01 00:00:00.200</td>\n",
       "      <td>1.054974e-08</td>\n",
       "    </tr>\n",
       "    <tr>\n",
       "      <th>3</th>\n",
       "      <td>2021-12-01 00:00:00.300</td>\n",
       "      <td>1.054974e-08</td>\n",
       "    </tr>\n",
       "    <tr>\n",
       "      <th>4</th>\n",
       "      <td>2021-12-01 00:00:00.400</td>\n",
       "      <td>1.054974e-08</td>\n",
       "    </tr>\n",
       "    <tr>\n",
       "      <th>...</th>\n",
       "      <td>...</td>\n",
       "      <td>...</td>\n",
       "    </tr>\n",
       "    <tr>\n",
       "      <th>26763350</th>\n",
       "      <td>2021-12-31 23:59:59.500</td>\n",
       "      <td>3.879932e-09</td>\n",
       "    </tr>\n",
       "    <tr>\n",
       "      <th>26763351</th>\n",
       "      <td>2021-12-31 23:59:59.600</td>\n",
       "      <td>3.879932e-09</td>\n",
       "    </tr>\n",
       "    <tr>\n",
       "      <th>26763352</th>\n",
       "      <td>2021-12-31 23:59:59.700</td>\n",
       "      <td>3.879932e-09</td>\n",
       "    </tr>\n",
       "    <tr>\n",
       "      <th>26763353</th>\n",
       "      <td>2021-12-31 23:59:59.800</td>\n",
       "      <td>3.894929e-09</td>\n",
       "    </tr>\n",
       "    <tr>\n",
       "      <th>26763354</th>\n",
       "      <td>2021-12-31 23:59:59.900</td>\n",
       "      <td>3.894929e-09</td>\n",
       "    </tr>\n",
       "  </tbody>\n",
       "</table>\n",
       "<p>26763355 rows × 2 columns</p>\n",
       "</div>"
      ],
      "text/plain": [
       "                        datetime  volatility_estimation\n",
       "0        2021-12-01 00:00:00.000           1.054974e-08\n",
       "1        2021-12-01 00:00:00.100           1.054974e-08\n",
       "2        2021-12-01 00:00:00.200           1.054974e-08\n",
       "3        2021-12-01 00:00:00.300           1.054974e-08\n",
       "4        2021-12-01 00:00:00.400           1.054974e-08\n",
       "...                          ...                    ...\n",
       "26763350 2021-12-31 23:59:59.500           3.879932e-09\n",
       "26763351 2021-12-31 23:59:59.600           3.879932e-09\n",
       "26763352 2021-12-31 23:59:59.700           3.879932e-09\n",
       "26763353 2021-12-31 23:59:59.800           3.894929e-09\n",
       "26763354 2021-12-31 23:59:59.900           3.894929e-09\n",
       "\n",
       "[26763355 rows x 2 columns]"
      ]
     },
     "execution_count": 5,
     "metadata": {},
     "output_type": "execute_result"
    }
   ],
   "source": [
    "# pass the flag keep_local to keep raw files instead of downloading them again if needed\n",
    "# tip: use params_dict define above after running the job to get that data\n",
    "volatility_df = get_dataframe_by_params(exchange_str=exchange_str, params_dict=query_dict, keep_local=True)\n",
    "volatility_df"
   ]
  },
  {
   "cell_type": "markdown",
   "id": "1aa7db3b-b064-49a1-8545-1b66fb3a633e",
   "metadata": {},
   "source": [
    "### Checking for missing data to compute"
   ]
  },
  {
   "cell_type": "code",
   "execution_count": 6,
   "id": "3f473395-0872-44a8-94d8-1c5c2f1733ac",
   "metadata": {},
   "outputs": [],
   "source": [
    "exchange_str = 'binance'\n",
    "exchange_stg = ExchangeStorage(exchange_str) # -- ExchangeStorage('binance')"
   ]
  },
  {
   "cell_type": "markdown",
   "id": "1b972c8a-6b36-4c05-b406-ab69b59091dc",
   "metadata": {},
   "source": [
    "Check for datasets that were already computed"
   ]
  },
  {
   "cell_type": "code",
   "execution_count": 7,
   "id": "3036fb2c-519c-48f6-9735-eb0421353247",
   "metadata": {},
   "outputs": [
    {
     "name": "stdout",
     "output_type": "stream",
     "text": [
      "\n",
      "Missing datasets: []\n"
     ]
    },
    {
     "data": {
      "text/plain": [
       "False"
      ]
     },
     "execution_count": 7,
     "metadata": {},
     "output_type": "execute_result"
    }
   ],
   "source": [
    "exchange_stg.amend_datasets_by_params(query_dict)"
   ]
  },
  {
   "cell_type": "markdown",
   "id": "f3da7aaf-9a76-4304-91dd-5e02cc72998b",
   "metadata": {
    "tags": []
   },
   "source": [
    "### Quick and dirty - Process data: paste params_dict here and go\n",
    "#### ! Uncomment last line to compute "
   ]
  },
  {
   "cell_type": "code",
   "execution_count": 4,
   "id": "f8a1d38d-1ef9-4a29-b5ed-856598a92d8c",
   "metadata": {},
   "outputs": [],
   "source": [
    "pairs = ['adabrl','bnbbrl','btcbrl','busdbrl','dogebrl','dotbrl','ethbrl','ftmbrl','galabrl','ltcbrl','shibbrl','solbrl','usdtbrl']"
   ]
  },
  {
   "cell_type": "code",
   "execution_count": 15,
   "id": "886db262-ef1c-43f1-903c-3e6166106db3",
   "metadata": {},
   "outputs": [
    {
     "name": "stdout",
     "output_type": "stream",
     "text": [
      "adabrl\n",
      "\n",
      "Missing datasets: []\n",
      "False\n",
      "----------------\n",
      "bnbbrl\n",
      "\n",
      "Missing datasets: []\n",
      "False\n",
      "----------------\n",
      "btcbrl\n",
      "\n",
      "Missing datasets: []\n",
      "False\n",
      "----------------\n",
      "busdbrl\n",
      "\n",
      "Missing datasets: ['2022-05-15']\n",
      "\n",
      "Run appropriate job with these parameters:\n",
      "{'pair': 'busdbrl', 'dataset_type': 'volatility_zma_mqc', 'start_date': '2022-05-15', 'end_date': '2022-05-16', 'exchange': 'binance'}\n",
      "True\n",
      "----------------\n",
      "dogebrl\n",
      "\n",
      "Missing datasets: ['2022-05-15']\n",
      "\n",
      "Run appropriate job with these parameters:\n",
      "{'pair': 'dogebrl', 'dataset_type': 'volatility_zma_mqc', 'start_date': '2022-05-15', 'end_date': '2022-05-16', 'exchange': 'binance'}\n",
      "True\n",
      "----------------\n",
      "dotbrl\n",
      "\n",
      "Missing datasets: []\n",
      "False\n",
      "----------------\n",
      "ethbrl\n",
      "\n",
      "Missing datasets: ['2022-05-13']\n",
      "\n",
      "Run appropriate job with these parameters:\n",
      "{'pair': 'ethbrl', 'dataset_type': 'volatility_zma_mqc', 'start_date': '2022-05-13', 'end_date': '2022-05-14', 'exchange': 'binance'}\n",
      "True\n",
      "----------------\n",
      "ftmbrl\n",
      "\n",
      "Missing datasets: []\n",
      "False\n",
      "----------------\n",
      "galabrl\n",
      "\n",
      "Missing datasets: []\n",
      "False\n",
      "----------------\n",
      "ltcbrl\n",
      "\n",
      "Missing datasets: ['2022-05-15']\n",
      "\n",
      "Run appropriate job with these parameters:\n",
      "{'pair': 'ltcbrl', 'dataset_type': 'volatility_zma_mqc', 'start_date': '2022-05-15', 'end_date': '2022-05-16', 'exchange': 'binance'}\n",
      "True\n",
      "----------------\n",
      "shibbrl\n",
      "\n",
      "Missing datasets: []\n",
      "False\n",
      "----------------\n",
      "solbrl\n",
      "\n",
      "Missing datasets: []\n",
      "False\n",
      "----------------\n",
      "usdtbrl\n",
      "\n",
      "Missing datasets: []\n",
      "False\n",
      "----------------\n",
      "{'run_id': 1614313, 'job_id': 881587990300813, 'run_page_url': 'https://adb-3928083337264192.12.azuredatabricks.net/?o=3928083337264192#job/881587990300813/run/1614313'}\n",
      "{'run_id': 1614435, 'job_id': 337865517746448, 'run_page_url': 'https://adb-3928083337264192.12.azuredatabricks.net/?o=3928083337264192#job/337865517746448/run/1614435'}\n",
      "{'run_id': 1614594, 'job_id': 668114407716710, 'run_page_url': 'https://adb-3928083337264192.12.azuredatabricks.net/?o=3928083337264192#job/668114407716710/run/1614594'}\n",
      "{'run_id': 1614743, 'job_id': 565201903772778, 'run_page_url': 'https://adb-3928083337264192.12.azuredatabricks.net/?o=3928083337264192#job/565201903772778/run/1614743'}\n"
     ]
    }
   ],
   "source": [
    "for pair in pairs:\n",
    "    # params_dict = {\n",
    "    #            'pair': pair,\n",
    "    #            'start_date': '2022-05-01', \n",
    "    #            'end_date': '2022-05-16',\n",
    "    #            'exchange': 'binance'}\n",
    "\n",
    "    # job_name = f'{params_dict[\"pair\"]}_{params_dict[\"exchange\"]}_{dataset_type}'\n",
    "\n",
    "    # UNCOMMENT HERE TO COMPUTE\n",
    "    # single_run_job(job_name, script_to_run, params_dict, job_type=job_type)\n",
    "    print(pair)\n",
    "    query_dict = {\n",
    "               'pair': pair,\n",
    "               'date_from': '2022-05-01', \n",
    "               'date_to': '2022-05-16',\n",
    "               'dataset_type': dataset_type}\n",
    "    x = exchange_stg.amend_datasets_by_params(query_dict)\n",
    "    print(x)\n",
    "    print('----------------')\n",
    "for params_dict in [\n",
    "    {'pair': 'busdbrl', 'dataset_type': 'volatility_zma_mqc', 'start_date': '2022-05-15', 'end_date': '2022-05-16', 'exchange': 'binance'},\n",
    "    {'pair': 'dogebrl', 'dataset_type': 'volatility_zma_mqc', 'start_date': '2022-05-15', 'end_date': '2022-05-16', 'exchange': 'binance'},\n",
    "    {'pair': 'ethbrl', 'dataset_type': 'volatility_zma_mqc', 'start_date': '2022-05-13', 'end_date': '2022-05-14', 'exchange': 'binance'},\n",
    "    {'pair': 'ltcbrl', 'dataset_type': 'volatility_zma_mqc', 'start_date': '2022-05-15', 'end_date': '2022-05-16', 'exchange': 'binance'},]:\n",
    "    job_name = f'{params_dict[\"pair\"]}_{params_dict[\"exchange\"]}_{dataset_type}'\n",
    "    \n",
    "    print(single_run_job(job_name, script_to_run, params_dict, job_type=job_type))"
   ]
  },
  {
   "cell_type": "markdown",
   "id": "1f65a949-86c9-4bf2-bc73-6e12a18b0acc",
   "metadata": {},
   "source": [
    "## Creating a periodic job\n",
    "Now, after using, checking data, etc., we can create a periodic (weekly or daily) job to keep this dataset updated. We'll setup it to run weekly on Mondays at 04:00 AM Sao Paulo time, to use the cluster in an idle time. \n",
    "\n",
    "## Ideally, **check Databricks UI to see if there are jobs scheduled for those times and day to avoid overloading the cluster**"
   ]
  },
  {
   "cell_type": "code",
   "execution_count": null,
   "id": "f6056b68-d9b9-463b-a157-03b15c29a8ea",
   "metadata": {
    "tags": []
   },
   "outputs": [
    {
     "data": {
      "text/plain": [
       "{'job': {'job_id': 837105722299197},\n",
       " 'schedule_job': {'job_id': 874249017617680}}"
      ]
     },
     "execution_count": 7,
     "metadata": {},
     "output_type": "execute_result"
    }
   ],
   "source": [
    "from propdesk_services.azure_databricks import create_periodic_job\n",
    "\n",
    "pair = 'btcusdt'\n",
    "exchange = 'binance'\n",
    "\n",
    "# weekly job\n",
    "job_name = f'daily_volatility_zma_mqc_{pair}_{exchange}'\n",
    "\n",
    "# make sure to have a schedule that is compatible with the period\n",
    "job_schedule = \"0 15 1 ? * *\"\n",
    "\n",
    "period = 'daily'\n",
    "# no need for start_date and end_date in weekly jobs \n",
    "job_params = {\n",
    "    'exchange': exchange,\n",
    "    'pair': pair,\n",
    "    'bandwidth': 5,\n",
    "    'lookback_seconds':60,\n",
    "    'log_price': True,\n",
    "    'annualized_volatility': False,\n",
    "    'resampling_rule': '100mS'\n",
    "}\n",
    "\n",
    "create_periodic_job(job_name_str=job_name,\n",
    "                    filename_str=script_to_run,\n",
    "                    params_dict=job_params,\n",
    "                    period=period,\n",
    "                    cron_expression_str=job_schedule)"
   ]
  },
  {
   "cell_type": "markdown",
   "id": "ba56306f-bb7b-42c2-9d7e-50797ff19e19",
   "metadata": {},
   "source": [
    "# Success :)"
   ]
  },
  {
   "cell_type": "markdown",
   "id": "4ff1bfdd-6017-4b64-a2ef-5aff899b2c75",
   "metadata": {},
   "source": [
    "## That's it. **check Databricks UI to make sure everything is ok**"
   ]
  },
  {
   "cell_type": "markdown",
   "id": "bbbf7bca-9ce3-4c1c-90a4-e52908785ba7",
   "metadata": {},
   "source": [
    "### Have fun, move fast, break things, buy btc (or dcr or algorand) ⚡.\n",
    "#### -- Propdesk Transfero"
   ]
  }
 ],
 "metadata": {
  "kernelspec": {
   "display_name": "Python 3 (ipykernel)",
   "language": "python",
   "name": "python3"
  },
  "language_info": {
   "codemirror_mode": {
    "name": "ipython",
    "version": 3
   },
   "file_extension": ".py",
   "mimetype": "text/x-python",
   "name": "python",
   "nbconvert_exporter": "python",
   "pygments_lexer": "ipython3",
   "version": "3.8.10"
  }
 },
 "nbformat": 4,
 "nbformat_minor": 5
}
