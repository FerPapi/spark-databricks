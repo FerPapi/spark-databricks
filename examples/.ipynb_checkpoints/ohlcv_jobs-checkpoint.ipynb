{
 "cells": [
  {
   "cell_type": "markdown",
   "id": "1417c28a-dc5a-4a20-840a-5001faeceab9",
   "metadata": {},
   "source": [
    "# Propdesk Data Pipeline - OHLCV"
   ]
  },
  {
   "cell_type": "code",
   "execution_count": 4,
   "id": "c6b93e94-ae4e-4a3b-922b-02875cbd8d7b",
   "metadata": {},
   "outputs": [
    {
     "name": "stdout",
     "output_type": "stream",
     "text": [
      "The autoreload extension is already loaded. To reload it, use:\n",
      "  %reload_ext autoreload\n"
     ]
    }
   ],
   "source": [
    "%load_ext autoreload\n",
    "%autoreload 2\n",
    "from propdesk_tardis.tardis_transfero import tardis_transfero as tardis\n",
    "from propdesk_estimators.exchange_storage import ExchangeStorage\n",
    "from propdesk_azure_services.azure_databricks import single_run_job\n",
    "from propdesk_azure_services.azure_databricks import list_databricks_src_files"
   ]
  },
  {
   "cell_type": "markdown",
   "id": "70436b79-21cd-42bc-9663-245a176ad741",
   "metadata": {},
   "source": [
    "### Job Type and Dataset Type (don't need to change this)"
   ]
  },
  {
   "cell_type": "code",
   "execution_count": 7,
   "id": "98428bf0-9e03-4df6-ad2d-8e7b87415da2",
   "metadata": {
    "tags": []
   },
   "outputs": [],
   "source": [
    "job_type = 'io_intensive'\n",
    "dataset_type = 'ohlcv'\n",
    "script_to_run = 'spark_ohlcv.py'"
   ]
  },
  {
   "cell_type": "code",
   "execution_count": 6,
   "id": "a2fb957c-ac1e-4147-b0ab-1cb67204bfda",
   "metadata": {},
   "outputs": [
    {
     "data": {
      "text/plain": [
       "{'job': {'job_id': 1059812247481555},\n",
       " 'schedule_job': {'job_id': 291503446434075}}"
      ]
     },
     "execution_count": 6,
     "metadata": {},
     "output_type": "execute_result"
    }
   ],
   "source": [
    "from propdesk_azure_services.azure_databricks import create_periodic_job\n",
    "\n",
    "exchange = 'binance'\n",
    "# daily job\n",
    "job_name = f'daily_ohlcv_btcusdt_binance'\n",
    "script_to_run = 'spark_ohlcv.py'\n",
    "\n",
    "##############\n",
    "# make sure to have a schedule that is compatible with the period\n",
    "# you can validate it in https://www.freeformatter.com/cron-expression-generator-quartz.html\n",
    "# this one reads 'everyday at 4AM'\n",
    "# defautl timezone is AMERICAS-SAO PAULO\n",
    "job_schedule = \"0 0 6 * * ?\"\n",
    "#############\n",
    "\n",
    "period = 'daily'\n",
    "# no need for start_date and end_date in daily jobs \n",
    "job_params = {\n",
    "    'exchange': 'binance',\n",
    "    'pair': 'btcusdt',\n",
    "    'resampling_rule': '1T'\n",
    "}\n",
    "\n",
    "\n",
    "create_periodic_job(job_name_str=job_name,\n",
    "                    filename_str=script_to_run,\n",
    "                    params_dict=job_params,\n",
    "                    period=period,\n",
    "                    cron_expression_str=job_schedule)"
   ]
  },
  {
   "cell_type": "code",
   "execution_count": null,
   "id": "a0d4bfb7-3cc2-4902-b751-f8561dbd7ad5",
   "metadata": {},
   "outputs": [],
   "source": []
  },
  {
   "cell_type": "code",
   "execution_count": null,
   "id": "fa88cadc-d046-4936-9a96-04ba2e2658e4",
   "metadata": {},
   "outputs": [],
   "source": []
  },
  {
   "cell_type": "markdown",
   "id": "a71c210c-0eac-43e5-a638-3a6862a9e941",
   "metadata": {},
   "source": [
    "### Quick and Dirty - Get Data"
   ]
  },
  {
   "cell_type": "code",
   "execution_count": 5,
   "id": "b9cce768-7b87-4cfa-974c-e9a7e7f99cf5",
   "metadata": {
    "tags": []
   },
   "outputs": [],
   "source": [
    "from propdesk_estimators.exchange_storage import get_dataframe_by_params"
   ]
  },
  {
   "cell_type": "code",
   "execution_count": 5,
   "id": "00cd4994-cac2-406c-8ee5-946cc0b08e52",
   "metadata": {
    "tags": []
   },
   "outputs": [
    {
     "name": "stdout",
     "output_type": "stream",
     "text": [
      "files saved to: /tmp/tmpd7wlpoxa\n"
     ]
    }
   ],
   "source": [
    "exchange_str = 'binance'\n",
    "\n",
    "query_dict = {\n",
    "    'dataset_type': 'ohlcv',\n",
    "    'pair': 'btcusdt', \n",
    "    'date_from': '2022-01-01', \n",
    "    'date_to': '2022-02-01', \n",
    "    'resampling_rule': '1H',\n",
    "}\n",
    "query_dict\n",
    "\n",
    "# pass the flag keep_local to keep raw files instead of downloading them again if needed\n",
    "# tip: use params_dict define above after running the job to get that data\n",
    "ohlcv_df = get_dataframe_by_params(exchange_str=exchange_str, params_dict=query_dict, keep_local=True)"
   ]
  },
  {
   "cell_type": "code",
   "execution_count": 6,
   "id": "c5a74ce3-600a-47f8-9085-c566213b50b6",
   "metadata": {},
   "outputs": [
    {
     "data": {
      "text/html": [
       "<div>\n",
       "<style scoped>\n",
       "    .dataframe tbody tr th:only-of-type {\n",
       "        vertical-align: middle;\n",
       "    }\n",
       "\n",
       "    .dataframe tbody tr th {\n",
       "        vertical-align: top;\n",
       "    }\n",
       "\n",
       "    .dataframe thead th {\n",
       "        text-align: right;\n",
       "    }\n",
       "</style>\n",
       "<table border=\"1\" class=\"dataframe\">\n",
       "  <thead>\n",
       "    <tr style=\"text-align: right;\">\n",
       "      <th></th>\n",
       "      <th>datetime</th>\n",
       "      <th>open</th>\n",
       "      <th>high</th>\n",
       "      <th>low</th>\n",
       "      <th>close</th>\n",
       "      <th>volume</th>\n",
       "    </tr>\n",
       "  </thead>\n",
       "  <tbody>\n",
       "    <tr>\n",
       "      <th>0</th>\n",
       "      <td>2022-01-01 00:00:00</td>\n",
       "      <td>46216.93</td>\n",
       "      <td>46731.39</td>\n",
       "      <td>46208.37</td>\n",
       "      <td>46656.14</td>\n",
       "      <td>1503.31036</td>\n",
       "    </tr>\n",
       "    <tr>\n",
       "      <th>1</th>\n",
       "      <td>2022-01-01 01:00:00</td>\n",
       "      <td>46656.13</td>\n",
       "      <td>46949.99</td>\n",
       "      <td>46574.06</td>\n",
       "      <td>46778.14</td>\n",
       "      <td>943.79747</td>\n",
       "    </tr>\n",
       "    <tr>\n",
       "      <th>2</th>\n",
       "      <td>2022-01-01 02:00:00</td>\n",
       "      <td>46778.14</td>\n",
       "      <td>46928.94</td>\n",
       "      <td>46721.96</td>\n",
       "      <td>46811.76</td>\n",
       "      <td>485.17359</td>\n",
       "    </tr>\n",
       "    <tr>\n",
       "      <th>3</th>\n",
       "      <td>2022-01-01 03:00:00</td>\n",
       "      <td>46811.77</td>\n",
       "      <td>46916.63</td>\n",
       "      <td>46760.12</td>\n",
       "      <td>46813.20</td>\n",
       "      <td>562.91090</td>\n",
       "    </tr>\n",
       "    <tr>\n",
       "      <th>4</th>\n",
       "      <td>2022-01-01 04:00:00</td>\n",
       "      <td>46813.20</td>\n",
       "      <td>46887.33</td>\n",
       "      <td>46591.23</td>\n",
       "      <td>46711.04</td>\n",
       "      <td>861.88096</td>\n",
       "    </tr>\n",
       "    <tr>\n",
       "      <th>...</th>\n",
       "      <td>...</td>\n",
       "      <td>...</td>\n",
       "      <td>...</td>\n",
       "      <td>...</td>\n",
       "      <td>...</td>\n",
       "      <td>...</td>\n",
       "    </tr>\n",
       "    <tr>\n",
       "      <th>739</th>\n",
       "      <td>2022-01-31 19:00:00</td>\n",
       "      <td>38468.29</td>\n",
       "      <td>38744.00</td>\n",
       "      <td>38383.91</td>\n",
       "      <td>38415.79</td>\n",
       "      <td>1944.85030</td>\n",
       "    </tr>\n",
       "    <tr>\n",
       "      <th>740</th>\n",
       "      <td>2022-01-31 20:00:00</td>\n",
       "      <td>38415.80</td>\n",
       "      <td>38563.37</td>\n",
       "      <td>38236.69</td>\n",
       "      <td>38450.62</td>\n",
       "      <td>1639.71534</td>\n",
       "    </tr>\n",
       "    <tr>\n",
       "      <th>741</th>\n",
       "      <td>2022-01-31 21:00:00</td>\n",
       "      <td>38450.62</td>\n",
       "      <td>38531.53</td>\n",
       "      <td>38335.00</td>\n",
       "      <td>38410.09</td>\n",
       "      <td>923.74653</td>\n",
       "    </tr>\n",
       "    <tr>\n",
       "      <th>742</th>\n",
       "      <td>2022-01-31 22:00:00</td>\n",
       "      <td>38410.09</td>\n",
       "      <td>38737.99</td>\n",
       "      <td>38398.58</td>\n",
       "      <td>38412.45</td>\n",
       "      <td>927.84485</td>\n",
       "    </tr>\n",
       "    <tr>\n",
       "      <th>743</th>\n",
       "      <td>2022-01-31 23:00:00</td>\n",
       "      <td>38412.45</td>\n",
       "      <td>38510.28</td>\n",
       "      <td>38336.04</td>\n",
       "      <td>38466.89</td>\n",
       "      <td>574.59517</td>\n",
       "    </tr>\n",
       "  </tbody>\n",
       "</table>\n",
       "<p>744 rows × 6 columns</p>\n",
       "</div>"
      ],
      "text/plain": [
       "               datetime      open      high       low     close      volume\n",
       "0   2022-01-01 00:00:00  46216.93  46731.39  46208.37  46656.14  1503.31036\n",
       "1   2022-01-01 01:00:00  46656.13  46949.99  46574.06  46778.14   943.79747\n",
       "2   2022-01-01 02:00:00  46778.14  46928.94  46721.96  46811.76   485.17359\n",
       "3   2022-01-01 03:00:00  46811.77  46916.63  46760.12  46813.20   562.91090\n",
       "4   2022-01-01 04:00:00  46813.20  46887.33  46591.23  46711.04   861.88096\n",
       "..                  ...       ...       ...       ...       ...         ...\n",
       "739 2022-01-31 19:00:00  38468.29  38744.00  38383.91  38415.79  1944.85030\n",
       "740 2022-01-31 20:00:00  38415.80  38563.37  38236.69  38450.62  1639.71534\n",
       "741 2022-01-31 21:00:00  38450.62  38531.53  38335.00  38410.09   923.74653\n",
       "742 2022-01-31 22:00:00  38410.09  38737.99  38398.58  38412.45   927.84485\n",
       "743 2022-01-31 23:00:00  38412.45  38510.28  38336.04  38466.89   574.59517\n",
       "\n",
       "[744 rows x 6 columns]"
      ]
     },
     "execution_count": 6,
     "metadata": {},
     "output_type": "execute_result"
    }
   ],
   "source": [
    "ohlcv_df"
   ]
  },
  {
   "cell_type": "markdown",
   "id": "1aa7db3b-b064-49a1-8545-1b66fb3a633e",
   "metadata": {},
   "source": [
    "### Checking for missing data to compute"
   ]
  },
  {
   "cell_type": "code",
   "execution_count": 9,
   "id": "ddcf6559-2737-4296-aba1-503c828513c8",
   "metadata": {},
   "outputs": [],
   "source": [
    "exchange_str = 'binance'"
   ]
  },
  {
   "cell_type": "code",
   "execution_count": 10,
   "id": "3f473395-0872-44a8-94d8-1c5c2f1733ac",
   "metadata": {},
   "outputs": [],
   "source": [
    "exchange_stg = ExchangeStorage(exchange_str) # -- ExchangeStorage('binance')"
   ]
  },
  {
   "cell_type": "markdown",
   "id": "1b972c8a-6b36-4c05-b406-ab69b59091dc",
   "metadata": {},
   "source": [
    "Check for datasets that were already computed"
   ]
  },
  {
   "cell_type": "code",
   "execution_count": 20,
   "id": "3036fb2c-519c-48f6-9735-eb0421353247",
   "metadata": {},
   "outputs": [
    {
     "name": "stdout",
     "output_type": "stream",
     "text": [
      "\n",
      "Missing datasets: []\n"
     ]
    },
    {
     "data": {
      "text/plain": [
       "False"
      ]
     },
     "execution_count": 20,
     "metadata": {},
     "output_type": "execute_result"
    }
   ],
   "source": [
    "exchange_stg.amend_datasets_by_params(query_dict)"
   ]
  },
  {
   "cell_type": "code",
   "execution_count": 11,
   "id": "b9c4549f-6364-4401-aa40-e774e1918e29",
   "metadata": {},
   "outputs": [],
   "source": [
    "from propdesk_tardis.tardis_transfero.tardis_transfero import get_exchange_dataset_info_from_symbol"
   ]
  },
  {
   "cell_type": "markdown",
   "id": "f3da7aaf-9a76-4304-91dd-5e02cc72998b",
   "metadata": {
    "tags": []
   },
   "source": [
    "### Quick and dirty - Process data: paste params_dict here and go"
   ]
  },
  {
   "cell_type": "code",
   "execution_count": 14,
   "id": "886db262-ef1c-43f1-903c-3e6166106db3",
   "metadata": {},
   "outputs": [
    {
     "name": "stdout",
     "output_type": "stream",
     "text": [
      "{'run_id': 1534330, 'job_id': 31115347136908, 'run_page_url': 'https://adb-3928083337264192.12.azuredatabricks.net/?o=3928083337264192#job/31115347136908/run/1534330'}\n",
      "{'run_id': 1535948, 'job_id': 228537747564885, 'run_page_url': 'https://adb-3928083337264192.12.azuredatabricks.net/?o=3928083337264192#job/228537747564885/run/1535948'}\n"
     ]
    }
   ],
   "source": [
    "params_dict = {'dataset_type': 'ohlcv', \n",
    "               # 'pair': pair,\n",
    "               'pair': 'btcusdt',\n",
    "                'exchange': 'binance',\n",
    "                'start_date': '2022-05-01', \n",
    "                'end_date': '2022-05-08', \n",
    "                'resampling_rule': '1T', \n",
    "                   }\n",
    "    job_name = f'{params_dict[\"pair\"]}_{params_dict[\"exchange\"]}_{params_dict[\"dataset_type\"]}'\n",
    "    j = single_run_job(job_name, script_to_run, params_dict, job_type=job_type)\n",
    "    print(j)\n",
    "\n",
    "    # query_dict = {\n",
    "    # 'dataset_type': 'ohlcv',\n",
    "    # 'pair': pair, \n",
    "    # 'date_from': '2022-01-01', \n",
    "    # 'date_to': '2022-01-02', \n",
    "    # 'resampling_rule': '1t',\n",
    "    # }\n",
    "    # print(pair)\n",
    "    # # pass the flag keep_local to keep raw files instead of downloading them again if needed\n",
    "    # # tip: use params_dict define above after running the job to get that data\n",
    "    # ohlcv_df = get_dataframe_by_params(exchange_str='binance', params_dict=query_dict, keep_local=True)\n",
    "    # print(ohlcv_df)"
   ]
  },
  {
   "cell_type": "code",
   "execution_count": null,
   "id": "55e95ab6-4925-47cc-935b-442f832927f6",
   "metadata": {},
   "outputs": [],
   "source": [
    "job_name = f'{params_dict[\"pair\"]}_{params_dict[\"exchange\"]}_{params_dict[\"dataset_type\"]}'\n",
    "\n",
    "# UNCOMMENT HERE\n",
    "# single_run_job(job_name, script_to_run, params_dict, job_type=job_type)"
   ]
  },
  {
   "cell_type": "markdown",
   "id": "ba56306f-bb7b-42c2-9d7e-50797ff19e19",
   "metadata": {},
   "source": [
    "# Success :)"
   ]
  },
  {
   "cell_type": "markdown",
   "id": "4ff1bfdd-6017-4b64-a2ef-5aff899b2c75",
   "metadata": {},
   "source": [
    "## That's it. **check Databricks UI to make sure everything is ok**"
   ]
  },
  {
   "cell_type": "markdown",
   "id": "bbbf7bca-9ce3-4c1c-90a4-e52908785ba7",
   "metadata": {},
   "source": [
    "### Have fun, move fast, break things, buy btc (or dcr or algorand) ⚡.\n",
    "#### -- Propdesk Transfero"
   ]
  }
 ],
 "metadata": {
  "kernelspec": {
   "display_name": "transferoenv",
   "language": "python",
   "name": "transferoenv"
  },
  "language_info": {
   "codemirror_mode": {
    "name": "ipython",
    "version": 3
   },
   "file_extension": ".py",
   "mimetype": "text/x-python",
   "name": "python",
   "nbconvert_exporter": "python",
   "pygments_lexer": "ipython3",
   "version": "3.8.10"
  }
 },
 "nbformat": 4,
 "nbformat_minor": 5
}
