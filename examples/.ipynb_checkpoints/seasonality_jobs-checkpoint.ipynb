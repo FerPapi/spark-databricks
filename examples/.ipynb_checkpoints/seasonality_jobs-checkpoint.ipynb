{
 "cells": [
  {
   "cell_type": "markdown",
   "id": "1417c28a-dc5a-4a20-840a-5001faeceab9",
   "metadata": {},
   "source": [
    "# Propdesk Data Pipeline - Seasonality"
   ]
  },
  {
   "cell_type": "code",
   "execution_count": 2,
   "id": "c6b93e94-ae4e-4a3b-922b-02875cbd8d7b",
   "metadata": {},
   "outputs": [],
   "source": [
    "%load_ext autoreload\n",
    "%autoreload 2\n",
    "from propdesk_tardis.tardis_transfero import tardis_transfero as tardis\n",
    "from propdesk_estimators.exchange_storage import ExchangeStorage\n",
    "from propdesk_azure_services.azure_databricks import single_run_job\n",
    "from propdesk_azure_services.azure_databricks import list_databricks_src_files"
   ]
  },
  {
   "cell_type": "markdown",
   "id": "70436b79-21cd-42bc-9663-245a176ad741",
   "metadata": {},
   "source": [
    "### Job Type and Dataset Type (don't need to change this)"
   ]
  },
  {
   "cell_type": "code",
   "execution_count": 3,
   "id": "98428bf0-9e03-4df6-ad2d-8e7b87415da2",
   "metadata": {},
   "outputs": [],
   "source": [
    "job_type = 'io_intensive'\n",
    "dataset_type = 'seasonality'\n",
    "script_to_run = 'spark_seasonality.py'"
   ]
  },
  {
   "cell_type": "markdown",
   "id": "0b377b8d-432c-4fd8-b8cd-33cd4639787a",
   "metadata": {},
   "source": [
    "### Quick and Dirty - Get Data"
   ]
  },
  {
   "cell_type": "code",
   "execution_count": 19,
   "id": "e939dd81-ab6d-4047-a542-7c19e3d9a7ed",
   "metadata": {
    "tags": []
   },
   "outputs": [
    {
     "data": {
      "text/plain": [
       "{'dataset_type': 'seasonality',\n",
       " 'pair': 'btcusdt',\n",
       " 'date_from': '2022-01-01',\n",
       " 'date_to': '2022-02-01',\n",
       " 'resampling_rule': '60S'}"
      ]
     },
     "execution_count": 19,
     "metadata": {},
     "output_type": "execute_result"
    }
   ],
   "source": [
    "from propdesk_estimators.exchange_storage import get_dataframe_by_params\n",
    "exchange_str = 'binance'\n",
    "\n",
    "query_dict = {\n",
    "    'dataset_type': 'seasonality',\n",
    "    'pair': 'btcusdt', \n",
    "    'date_from': '2022-01-01', \n",
    "    'date_to': '2022-02-01', \n",
    "    'resampling_rule': '60S',\n",
    "}\n",
    "query_dict"
   ]
  },
  {
   "cell_type": "code",
   "execution_count": 20,
   "id": "3171b73a-b6ce-45bf-a093-67d8e93d46bd",
   "metadata": {},
   "outputs": [
    {
     "name": "stdout",
     "output_type": "stream",
     "text": [
      "files saved to: /tmp/tmpgwz9ovbv\n"
     ]
    },
    {
     "data": {
      "text/html": [
       "<div>\n",
       "<style scoped>\n",
       "    .dataframe tbody tr th:only-of-type {\n",
       "        vertical-align: middle;\n",
       "    }\n",
       "\n",
       "    .dataframe tbody tr th {\n",
       "        vertical-align: top;\n",
       "    }\n",
       "\n",
       "    .dataframe thead th {\n",
       "        text-align: right;\n",
       "    }\n",
       "</style>\n",
       "<table border=\"1\" class=\"dataframe\">\n",
       "  <thead>\n",
       "    <tr style=\"text-align: right;\">\n",
       "      <th></th>\n",
       "      <th>datetime</th>\n",
       "      <th>seasonality_estimation</th>\n",
       "    </tr>\n",
       "  </thead>\n",
       "  <tbody>\n",
       "    <tr>\n",
       "      <th>0</th>\n",
       "      <td>2022-01-01 00:00:00</td>\n",
       "      <td>32.935380</td>\n",
       "    </tr>\n",
       "    <tr>\n",
       "      <th>1</th>\n",
       "      <td>2022-01-01 00:01:00</td>\n",
       "      <td>28.756630</td>\n",
       "    </tr>\n",
       "    <tr>\n",
       "      <th>2</th>\n",
       "      <td>2022-01-01 00:02:00</td>\n",
       "      <td>42.499830</td>\n",
       "    </tr>\n",
       "    <tr>\n",
       "      <th>3</th>\n",
       "      <td>2022-01-01 00:03:00</td>\n",
       "      <td>40.220665</td>\n",
       "    </tr>\n",
       "    <tr>\n",
       "      <th>4</th>\n",
       "      <td>2022-01-01 00:04:00</td>\n",
       "      <td>24.296400</td>\n",
       "    </tr>\n",
       "    <tr>\n",
       "      <th>...</th>\n",
       "      <td>...</td>\n",
       "      <td>...</td>\n",
       "    </tr>\n",
       "    <tr>\n",
       "      <th>44635</th>\n",
       "      <td>2022-01-31 23:55:00</td>\n",
       "      <td>10.551465</td>\n",
       "    </tr>\n",
       "    <tr>\n",
       "      <th>44636</th>\n",
       "      <td>2022-01-31 23:56:00</td>\n",
       "      <td>12.749150</td>\n",
       "    </tr>\n",
       "    <tr>\n",
       "      <th>44637</th>\n",
       "      <td>2022-01-31 23:57:00</td>\n",
       "      <td>12.870900</td>\n",
       "    </tr>\n",
       "    <tr>\n",
       "      <th>44638</th>\n",
       "      <td>2022-01-31 23:58:00</td>\n",
       "      <td>9.528180</td>\n",
       "    </tr>\n",
       "    <tr>\n",
       "      <th>44639</th>\n",
       "      <td>2022-01-31 23:59:00</td>\n",
       "      <td>13.592890</td>\n",
       "    </tr>\n",
       "  </tbody>\n",
       "</table>\n",
       "<p>44640 rows × 2 columns</p>\n",
       "</div>"
      ],
      "text/plain": [
       "                 datetime  seasonality_estimation\n",
       "0     2022-01-01 00:00:00               32.935380\n",
       "1     2022-01-01 00:01:00               28.756630\n",
       "2     2022-01-01 00:02:00               42.499830\n",
       "3     2022-01-01 00:03:00               40.220665\n",
       "4     2022-01-01 00:04:00               24.296400\n",
       "...                   ...                     ...\n",
       "44635 2022-01-31 23:55:00               10.551465\n",
       "44636 2022-01-31 23:56:00               12.749150\n",
       "44637 2022-01-31 23:57:00               12.870900\n",
       "44638 2022-01-31 23:58:00                9.528180\n",
       "44639 2022-01-31 23:59:00               13.592890\n",
       "\n",
       "[44640 rows x 2 columns]"
      ]
     },
     "execution_count": 20,
     "metadata": {},
     "output_type": "execute_result"
    }
   ],
   "source": [
    "# pass the flag keep_local to keep raw files instead of downloading them again if needed\n",
    "# tip: use params_dict define above after running the job to get that data\n",
    "seasonality_df = get_dataframe_by_params(exchange_str=exchange_str, params_dict=query_dict, keep_local=True)\n",
    "seasonality_df"
   ]
  },
  {
   "cell_type": "markdown",
   "id": "1aa7db3b-b064-49a1-8545-1b66fb3a633e",
   "metadata": {},
   "source": [
    "### Checking for missing data to compute"
   ]
  },
  {
   "cell_type": "code",
   "execution_count": 21,
   "id": "3f473395-0872-44a8-94d8-1c5c2f1733ac",
   "metadata": {},
   "outputs": [],
   "source": [
    "exchange_str = 'binance'\n",
    "exchange_stg = ExchangeStorage(exchange_str) # -- ExchangeStorage('binance')"
   ]
  },
  {
   "cell_type": "markdown",
   "id": "1b972c8a-6b36-4c05-b406-ab69b59091dc",
   "metadata": {},
   "source": [
    "Check for datasets that were already computed"
   ]
  },
  {
   "cell_type": "code",
   "execution_count": 22,
   "id": "3036fb2c-519c-48f6-9735-eb0421353247",
   "metadata": {},
   "outputs": [
    {
     "name": "stdout",
     "output_type": "stream",
     "text": [
      "\n",
      "Missing datasets: []\n"
     ]
    },
    {
     "data": {
      "text/plain": [
       "False"
      ]
     },
     "execution_count": 22,
     "metadata": {},
     "output_type": "execute_result"
    }
   ],
   "source": [
    "exchange_stg.amend_datasets_by_params(query_dict)"
   ]
  },
  {
   "cell_type": "markdown",
   "id": "f3da7aaf-9a76-4304-91dd-5e02cc72998b",
   "metadata": {
    "tags": []
   },
   "source": [
    "### Quick and dirty - Process data: paste params_dict here and go"
   ]
  },
  {
   "cell_type": "code",
   "execution_count": 23,
   "id": "886db262-ef1c-43f1-903c-3e6166106db3",
   "metadata": {},
   "outputs": [
    {
     "data": {
      "text/plain": [
       "{'run_id': 542339,\n",
       " 'job_id': 15088,\n",
       " 'run_page_url': 'https://adb-3928083337264192.12.azuredatabricks.net/?o=3928083337264192#job/15088/run/542339'}"
      ]
     },
     "execution_count": 23,
     "metadata": {},
     "output_type": "execute_result"
    }
   ],
   "source": [
    "params_dict = {'dataset_type': 'seasonality', \n",
    "               'pair': 'btcusdt', \n",
    "               'start_date': '2022-02-01', \n",
    "               'end_date': '2022-02-15', \n",
    "               'exchange': 'binance'}\n",
    "\n",
    "job_name = f'{params_dict[\"pair\"]}_{params_dict[\"exchange\"]}_{params_dict[\"dataset_type\"]}'\n",
    "\n",
    "# single_run_job(job_name, script_to_run, params_dict, job_type=job_type)"
   ]
  },
  {
   "cell_type": "markdown",
   "id": "ba56306f-bb7b-42c2-9d7e-50797ff19e19",
   "metadata": {},
   "source": [
    "# Success :)"
   ]
  },
  {
   "cell_type": "markdown",
   "id": "4ff1bfdd-6017-4b64-a2ef-5aff899b2c75",
   "metadata": {},
   "source": [
    "## That's it. **check Databricks UI to make sure everything is ok**"
   ]
  },
  {
   "cell_type": "markdown",
   "id": "bbbf7bca-9ce3-4c1c-90a4-e52908785ba7",
   "metadata": {},
   "source": [
    "### Have fun, move fast, break things, buy btc (or dcr or algorand) ⚡.\n",
    "#### -- Propdesk Transfero"
   ]
  }
 ],
 "metadata": {
  "kernelspec": {
   "display_name": "transferoenv",
   "language": "python",
   "name": "transferoenv"
  },
  "language_info": {
   "codemirror_mode": {
    "name": "ipython",
    "version": 3
   },
   "file_extension": ".py",
   "mimetype": "text/x-python",
   "name": "python",
   "nbconvert_exporter": "python",
   "pygments_lexer": "ipython3",
   "version": "3.8.10"
  }
 },
 "nbformat": 4,
 "nbformat_minor": 5
}
